{
 "cells": [
  {
   "cell_type": "markdown",
   "metadata": {},
   "source": [
    "# Redshift distribution of strong gravitational lenses"
   ]
  },
  {
   "cell_type": "code",
   "execution_count": 17,
   "metadata": {},
   "outputs": [],
   "source": [
    "from __future__ import division\n",
    "import os, os.path\n",
    "import glob\n",
    "import sys\n",
    "import re\n",
    "import Clusters as c\n",
    "import numpy as np\n",
    "import astropy\n",
    "from matplotlib import pyplot as plt, rc\n",
    "from astropy.cosmology import LambdaCDM\n",
    "from astropy import units as u\n",
    "from collections import Counter\n",
    "import h5py\n",
    "sys.path.insert(0, '/cosma5/data/dp004/dc-beck3')\n",
    "import readlensing as rf\n",
    "import readsnap\n",
    "\n",
    "rc('text',usetex=True)\n",
    "rc('text.latex', preamble='\\usepackage{color}')\n",
    "rc('figure', figsize=(8,6))\n",
    "rc('font', size=18)\n",
    "rc('lines', linewidth=3)\n",
    "rc('axes', linewidth=2)\n",
    "rc('xtick.major', width=2)\n",
    "rc('ytick.major', width=2)"
   ]
  },
  {
   "cell_type": "code",
   "execution_count": 18,
   "metadata": {},
   "outputs": [],
   "source": [
    "LCSettings = '/cosma5/data/dp004/dc-beck3/shell_script/LCSettings.txt'\n",
    "sim_dir, sim_phy, sim_name, sim_col, hd_dir, lc_dir, glafic_dir, HQ_dir = rf.Simulation_Specs(LCSettings)\n",
    "lens_dir = '/cosma5/data/dp004/dc-beck3/LensingMap/'\n",
    "\n",
    "h = 0.6774\n",
    "labels = ['FP_GR', 'FP_F6']\n",
    "colour = ['r', 'b']"
   ]
  },
  {
   "cell_type": "code",
   "execution_count": null,
   "metadata": {},
   "outputs": [],
   "source": [
    "# Lensing Rates\n",
    "# Chapter 2.2: https://arxiv.org/pdf/1001.2037.pdf\n",
    "theta_min = 0.5  #[arcsec]\n",
    "theta_max = 4  #[arcsec]\n",
    "\n",
    "sigma_lens = du/mu \n",
    "\n",
    "prob = dtheta dzl u.c*dt/dzl *(1 + zl)**3 * (dndv*dvdtheta * sigma_lens)"
   ]
  },
  {
   "cell_type": "code",
   "execution_count": 19,
   "metadata": {},
   "outputs": [
    {
     "data": {
      "image/png": "[encoded data removed]",
      "text/plain": [
       "<matplotlib.figure.Figure at 0x7fffc415ab50>"
      ]
     },
     "metadata": {},
     "output_type": "display_data"
    }
   ],
   "source": [
    "for sim in range(len(sim_dir))[:1]:\n",
    "    # Simulation Snapshots\n",
    "    snapfile = sim_dir[sim]+'snapdir_%03d/snap_%03d'\n",
    "    # LightCone file for lens & source properties\n",
    "    lc_file = lc_dir[sim]+'LC_SN_'+sim_name[sim]+'.h5'\n",
    "    # LensingMap files\n",
    "    lm_dir = HQ_dir+'LensingMap/'+sim_phy[sim]+'/'+sim_name[sim]+'/'\n",
    "    \n",
    "    # Load LightCone Contents\n",
    "    LC = rf.LightCone_with_SN_lens(lc_file, 'dictionary')\n",
    "\n",
    "    # LensMaps filenames\n",
    "    lm_files = [name for name in glob.glob(lm_dir+'LM_L*')]  \n",
    "    Halo_ID_list=[]; zl_list=[]; zs_list=[]\n",
    "    for ll in range(len(lm_files)):\n",
    "        # Load LensingMap Contents\n",
    "        s = re.findall('[+-]?\\d+', lm_files[ll])\n",
    "        Halo_ID = s[-3]\n",
    "        LM = h5py.File(lm_files[ll])\n",
    "        zs_list.append(LM['zs'].value)  #[arcsec]\n",
    "        if Halo_ID not in Halo_ID_list:\n",
    "            Halo_ID_list.append(Halo_ID)\n",
    "            zl_list.append(LM['zl'].value)  #[arcsec]\n",
    "            \n",
    "    zs = np.asarray(zs_list)\n",
    "    zl = np.asarray(zl_list)\n",
    "    plt.hist(zs, 30, facecolor='r', alpha=0.75)\n",
    "    plt.hist(zl, 20, facecolor='b', alpha=0.75)\n",
    "plt.xlabel(r'$redshift$')\n",
    "plt.ylabel(r'Number of: \\textcolor{blue}{lens}, \\textcolor{red}{SNIa}')\n",
    "plt.legend(loc=2)\n",
    "plt.show()"
   ]
  },
  {
   "cell_type": "code",
   "execution_count": null,
   "metadata": {},
   "outputs": [],
   "source": []
  },
  {
   "cell_type": "code",
   "execution_count": null,
   "metadata": {},
   "outputs": [],
   "source": []
  }
 ],
 "metadata": {
  "kernelspec": {
   "display_name": "Python 2",
   "language": "python",
   "name": "python2.7.13"
  },
  "language_info": {
   "codemirror_mode": {
    "name": "ipython",
    "version": 2
   },
   "file_extension": ".py",
   "mimetype": "text/x-python",
   "name": "python",
   "nbconvert_exporter": "python",
   "pygments_lexer": "ipython2",
   "version": "2.7.13"
  }
 },
 "nbformat": 4,
 "nbformat_minor": 2
}
